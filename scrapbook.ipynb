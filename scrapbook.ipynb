{
 "cells": [
  {
   "cell_type": "markdown",
   "metadata": {},
   "source": [
    "# Contents\n",
    "\n",
    "This is a notebook that imports the robots libraries and a bunch of useful stuff\n",
    "\n",
    "I use this to perform explorative sessions when debugging/testing some aspects of the library\n",
    "\n",
    "Feel free to reuse this at the exam!\n",
    "\n",
    "(remember to use the pdm provided .venv on the top right corner of the notebook)"
   ]
  },
  {
   "cell_type": "code",
   "execution_count": 1,
   "metadata": {},
   "outputs": [],
   "source": [
    "import pyrobots as pr\n",
    "import robots as rb\n",
    "import numpy as np\n",
    "from rich import print\n"
   ]
  },
  {
   "cell_type": "markdown",
   "metadata": {},
   "source": [
    "## BASIC ROTATION MATRICES AND TRANSFORMATIONS"
   ]
  },
  {
   "cell_type": "code",
   "execution_count": 4,
   "metadata": {},
   "outputs": [
    {
     "data": {
      "text/html": [
       "<pre style=\"white-space:pre;overflow-x:auto;line-height:normal;font-family:Menlo,'DejaVu Sans Mono',consolas,'Courier New',monospace\"><span style=\"font-weight: bold\">[[</span> <span style=\"color: #008080; text-decoration-color: #008080; font-weight: bold\">1</span>  <span style=\"color: #008080; text-decoration-color: #008080; font-weight: bold\">0</span>  <span style=\"color: #008080; text-decoration-color: #008080; font-weight: bold\">0</span><span style=\"font-weight: bold\">]</span>\n",
       " <span style=\"font-weight: bold\">[</span> <span style=\"color: #008080; text-decoration-color: #008080; font-weight: bold\">0</span>  <span style=\"color: #008080; text-decoration-color: #008080; font-weight: bold\">0</span> <span style=\"color: #008080; text-decoration-color: #008080; font-weight: bold\">-1</span><span style=\"font-weight: bold\">]</span>\n",
       " <span style=\"font-weight: bold\">[</span> <span style=\"color: #008080; text-decoration-color: #008080; font-weight: bold\">0</span>  <span style=\"color: #008080; text-decoration-color: #008080; font-weight: bold\">1</span>  <span style=\"color: #008080; text-decoration-color: #008080; font-weight: bold\">0</span><span style=\"font-weight: bold\">]]</span>\n",
       "</pre>\n"
      ],
      "text/plain": [
       "\u001b[1m[\u001b[0m\u001b[1m[\u001b[0m \u001b[1;36m1\u001b[0m  \u001b[1;36m0\u001b[0m  \u001b[1;36m0\u001b[0m\u001b[1m]\u001b[0m\n",
       " \u001b[1m[\u001b[0m \u001b[1;36m0\u001b[0m  \u001b[1;36m0\u001b[0m \u001b[1;36m-1\u001b[0m\u001b[1m]\u001b[0m\n",
       " \u001b[1m[\u001b[0m \u001b[1;36m0\u001b[0m  \u001b[1;36m1\u001b[0m  \u001b[1;36m0\u001b[0m\u001b[1m]\u001b[0m\u001b[1m]\u001b[0m\n"
      ]
     },
     "metadata": {},
     "output_type": "display_data"
    },
    {
     "data": {
      "text/html": [
       "<pre style=\"white-space:pre;overflow-x:auto;line-height:normal;font-family:Menlo,'DejaVu Sans Mono',consolas,'Courier New',monospace\">🔄 Direct Rotation Matrix:\n",
       "<span style=\"font-weight: bold\">[[</span> <span style=\"color: #008080; text-decoration-color: #008080; font-weight: bold\">1</span>.,  <span style=\"color: #008080; text-decoration-color: #008080; font-weight: bold\">0</span>.,  <span style=\"color: #008080; text-decoration-color: #008080; font-weight: bold\">0</span>.<span style=\"font-weight: bold\">]</span>,\n",
       " <span style=\"font-weight: bold\">[</span> <span style=\"color: #008080; text-decoration-color: #008080; font-weight: bold\">0</span>.,  <span style=\"color: #008080; text-decoration-color: #008080; font-weight: bold\">0</span>., <span style=\"color: #008080; text-decoration-color: #008080; font-weight: bold\">-1</span>.<span style=\"font-weight: bold\">]</span>,\n",
       " <span style=\"font-weight: bold\">[</span> <span style=\"color: #008080; text-decoration-color: #008080; font-weight: bold\">0</span>.,  <span style=\"color: #008080; text-decoration-color: #008080; font-weight: bold\">1</span>.,  <span style=\"color: #008080; text-decoration-color: #008080; font-weight: bold\">0</span>.<span style=\"font-weight: bold\">]]</span>\n",
       "</pre>\n"
      ],
      "text/plain": [
       "🔄 Direct Rotation Matrix:\n",
       "\u001b[1m[\u001b[0m\u001b[1m[\u001b[0m \u001b[1;36m1\u001b[0m.,  \u001b[1;36m0\u001b[0m.,  \u001b[1;36m0\u001b[0m.\u001b[1m]\u001b[0m,\n",
       " \u001b[1m[\u001b[0m \u001b[1;36m0\u001b[0m.,  \u001b[1;36m0\u001b[0m., \u001b[1;36m-1\u001b[0m.\u001b[1m]\u001b[0m,\n",
       " \u001b[1m[\u001b[0m \u001b[1;36m0\u001b[0m.,  \u001b[1;36m1\u001b[0m.,  \u001b[1;36m0\u001b[0m.\u001b[1m]\u001b[0m\u001b[1m]\u001b[0m\n"
      ]
     },
     "metadata": {},
     "output_type": "display_data"
    },
    {
     "data": {
      "text/html": [
       "<pre style=\"white-space:pre;overflow-x:auto;line-height:normal;font-family:Menlo,'DejaVu Sans Mono',consolas,'Courier New',monospace\">🔄 Direct Rotation Matrix:\n",
       "<span style=\"font-weight: bold\">[[</span> <span style=\"color: #008080; text-decoration-color: #008080; font-weight: bold\">0</span>.,  <span style=\"color: #008080; text-decoration-color: #008080; font-weight: bold\">0</span>.,  <span style=\"color: #008080; text-decoration-color: #008080; font-weight: bold\">1</span>.<span style=\"font-weight: bold\">]</span>,\n",
       " <span style=\"font-weight: bold\">[</span> <span style=\"color: #008080; text-decoration-color: #008080; font-weight: bold\">0</span>.,  <span style=\"color: #008080; text-decoration-color: #008080; font-weight: bold\">1</span>.,  <span style=\"color: #008080; text-decoration-color: #008080; font-weight: bold\">0</span>.<span style=\"font-weight: bold\">]</span>,\n",
       " <span style=\"font-weight: bold\">[</span><span style=\"color: #008080; text-decoration-color: #008080; font-weight: bold\">-1</span>.,  <span style=\"color: #008080; text-decoration-color: #008080; font-weight: bold\">0</span>.,  <span style=\"color: #008080; text-decoration-color: #008080; font-weight: bold\">0</span>.<span style=\"font-weight: bold\">]]</span>\n",
       "</pre>\n"
      ],
      "text/plain": [
       "🔄 Direct Rotation Matrix:\n",
       "\u001b[1m[\u001b[0m\u001b[1m[\u001b[0m \u001b[1;36m0\u001b[0m.,  \u001b[1;36m0\u001b[0m.,  \u001b[1;36m1\u001b[0m.\u001b[1m]\u001b[0m,\n",
       " \u001b[1m[\u001b[0m \u001b[1;36m0\u001b[0m.,  \u001b[1;36m1\u001b[0m.,  \u001b[1;36m0\u001b[0m.\u001b[1m]\u001b[0m,\n",
       " \u001b[1m[\u001b[0m\u001b[1;36m-1\u001b[0m.,  \u001b[1;36m0\u001b[0m.,  \u001b[1;36m0\u001b[0m.\u001b[1m]\u001b[0m\u001b[1m]\u001b[0m\n"
      ]
     },
     "metadata": {},
     "output_type": "display_data"
    },
    {
     "data": {
      "text/html": [
       "<pre style=\"white-space:pre;overflow-x:auto;line-height:normal;font-family:Menlo,'DejaVu Sans Mono',consolas,'Courier New',monospace\">🔄 Direct Rotation Matrix:\n",
       "<span style=\"font-weight: bold\">[[</span> <span style=\"color: #008080; text-decoration-color: #008080; font-weight: bold\">0</span>., <span style=\"color: #008080; text-decoration-color: #008080; font-weight: bold\">-1</span>.,  <span style=\"color: #008080; text-decoration-color: #008080; font-weight: bold\">0</span>.<span style=\"font-weight: bold\">]</span>,\n",
       " <span style=\"font-weight: bold\">[</span> <span style=\"color: #008080; text-decoration-color: #008080; font-weight: bold\">1</span>.,  <span style=\"color: #008080; text-decoration-color: #008080; font-weight: bold\">0</span>.,  <span style=\"color: #008080; text-decoration-color: #008080; font-weight: bold\">0</span>.<span style=\"font-weight: bold\">]</span>,\n",
       " <span style=\"font-weight: bold\">[</span> <span style=\"color: #008080; text-decoration-color: #008080; font-weight: bold\">0</span>.,  <span style=\"color: #008080; text-decoration-color: #008080; font-weight: bold\">0</span>.,  <span style=\"color: #008080; text-decoration-color: #008080; font-weight: bold\">1</span>.<span style=\"font-weight: bold\">]]</span>\n",
       "</pre>\n"
      ],
      "text/plain": [
       "🔄 Direct Rotation Matrix:\n",
       "\u001b[1m[\u001b[0m\u001b[1m[\u001b[0m \u001b[1;36m0\u001b[0m., \u001b[1;36m-1\u001b[0m.,  \u001b[1;36m0\u001b[0m.\u001b[1m]\u001b[0m,\n",
       " \u001b[1m[\u001b[0m \u001b[1;36m1\u001b[0m.,  \u001b[1;36m0\u001b[0m.,  \u001b[1;36m0\u001b[0m.\u001b[1m]\u001b[0m,\n",
       " \u001b[1m[\u001b[0m \u001b[1;36m0\u001b[0m.,  \u001b[1;36m0\u001b[0m.,  \u001b[1;36m1\u001b[0m.\u001b[1m]\u001b[0m\u001b[1m]\u001b[0m\n"
      ]
     },
     "metadata": {},
     "output_type": "display_data"
    }
   ],
   "source": [
    "#Find the transformation matrix between two frames\n",
    "O_R_i=np.array([[0,0,1],[0,-1,0],[1,0,0]])\n",
    "O_R_f=np.array([[0,1,0],[0,0,1],[1,0,0]])\n",
    "i_R_f=O_R_i.T@O_R_f\n",
    "print(i_R_f)\n",
    "\n",
    "#create the basic matrices around x,y,z\n",
    "theta='pi/2'\n",
    "Rx_theta=rb.rotation_direct(theta, axis='x')\n",
    "Ry_theta=rb.rotation_direct(theta, axis='y')\n",
    "Rz_theta=rb.rotation_direct(theta, axis='z')"
   ]
  },
  {
   "cell_type": "markdown",
   "metadata": {},
   "source": [
    "## DIRECT ROTATION"
   ]
  },
  {
   "cell_type": "code",
   "execution_count": 24,
   "metadata": {},
   "outputs": [
    {
     "data": {
      "text/html": [
       "<pre style=\"white-space:pre;overflow-x:auto;line-height:normal;font-family:Menlo,'DejaVu Sans Mono',consolas,'Courier New',monospace\">🔄 Direct Rotation Matrix:\n",
       "<span style=\"font-weight: bold\">[[</span> <span style=\"color: #008080; text-decoration-color: #008080; font-weight: bold\">1</span>.,  <span style=\"color: #008080; text-decoration-color: #008080; font-weight: bold\">0</span>.,  <span style=\"color: #008080; text-decoration-color: #008080; font-weight: bold\">0</span>.<span style=\"font-weight: bold\">]</span>,\n",
       " <span style=\"font-weight: bold\">[</span> <span style=\"color: #008080; text-decoration-color: #008080; font-weight: bold\">0</span>.,  <span style=\"color: #008080; text-decoration-color: #008080; font-weight: bold\">0</span>., <span style=\"color: #008080; text-decoration-color: #008080; font-weight: bold\">-1</span>.<span style=\"font-weight: bold\">]</span>,\n",
       " <span style=\"font-weight: bold\">[</span> <span style=\"color: #008080; text-decoration-color: #008080; font-weight: bold\">0</span>.,  <span style=\"color: #008080; text-decoration-color: #008080; font-weight: bold\">1</span>.,  <span style=\"color: #008080; text-decoration-color: #008080; font-weight: bold\">0</span>.<span style=\"font-weight: bold\">]]</span>\n",
       "</pre>\n"
      ],
      "text/plain": [
       "🔄 Direct Rotation Matrix:\n",
       "\u001b[1m[\u001b[0m\u001b[1m[\u001b[0m \u001b[1;36m1\u001b[0m.,  \u001b[1;36m0\u001b[0m.,  \u001b[1;36m0\u001b[0m.\u001b[1m]\u001b[0m,\n",
       " \u001b[1m[\u001b[0m \u001b[1;36m0\u001b[0m.,  \u001b[1;36m0\u001b[0m., \u001b[1;36m-1\u001b[0m.\u001b[1m]\u001b[0m,\n",
       " \u001b[1m[\u001b[0m \u001b[1;36m0\u001b[0m.,  \u001b[1;36m1\u001b[0m.,  \u001b[1;36m0\u001b[0m.\u001b[1m]\u001b[0m\u001b[1m]\u001b[0m\n"
      ]
     },
     "metadata": {},
     "output_type": "display_data"
    }
   ],
   "source": [
    "#find the rotation matrix given the axis and angle\n",
    "theta='pi/2'\n",
    "R=rb.rotation_direct(theta, '1,0,0')"
   ]
  },
  {
   "cell_type": "markdown",
   "metadata": {},
   "source": [
    "## INVERSE ROTATION "
   ]
  },
  {
   "cell_type": "code",
   "execution_count": 26,
   "metadata": {},
   "outputs": [
    {
     "data": {
      "text/html": [
       "<pre style=\"white-space:pre;overflow-x:auto;line-height:normal;font-family:Menlo,'DejaVu Sans Mono',consolas,'Courier New',monospace\">Inverse Rotation:\n",
       "        📐 <span style=\"color: #800080; text-decoration-color: #800080; font-weight: bold\">theta</span><span style=\"font-weight: bold\">(</span>s<span style=\"font-weight: bold\">)</span> = <span style=\"font-weight: bold\">[</span><span style=\"color: #008080; text-decoration-color: #008080; font-weight: bold\">582712</span>/<span style=\"color: #008080; text-decoration-color: #008080; font-weight: bold\">319561</span>, <span style=\"color: #008080; text-decoration-color: #008080; font-weight: bold\">-582712</span>/<span style=\"color: #008080; text-decoration-color: #008080; font-weight: bold\">319561</span><span style=\"font-weight: bold\">]</span>\n",
       "        📏 axis = <span style=\"font-weight: bold\">[[</span><span style=\"color: #008080; text-decoration-color: #008080; font-weight: bold\">1</span>/√<span style=\"color: #008080; text-decoration-color: #008080; font-weight: bold\">5</span>, <span style=\"color: #008080; text-decoration-color: #008080; font-weight: bold\">726141</span>/<span style=\"color: #008080; text-decoration-color: #008080; font-weight: bold\">937444</span>, <span style=\"color: #008080; text-decoration-color: #008080; font-weight: bold\">-1</span>/√<span style=\"color: #008080; text-decoration-color: #008080; font-weight: bold\">5</span><span style=\"font-weight: bold\">]</span>,\n",
       " <span style=\"font-weight: bold\">[</span><span style=\"color: #008080; text-decoration-color: #008080; font-weight: bold\">-1</span>/√<span style=\"color: #008080; text-decoration-color: #008080; font-weight: bold\">5</span>, <span style=\"color: #008080; text-decoration-color: #008080; font-weight: bold\">-726141</span>/<span style=\"color: #008080; text-decoration-color: #008080; font-weight: bold\">937444</span>, <span style=\"color: #008080; text-decoration-color: #008080; font-weight: bold\">1</span>/√<span style=\"color: #008080; text-decoration-color: #008080; font-weight: bold\">5</span><span style=\"font-weight: bold\">]]</span>\n",
       "</pre>\n"
      ],
      "text/plain": [
       "Inverse Rotation:\n",
       "        📐 \u001b[1;35mtheta\u001b[0m\u001b[1m(\u001b[0ms\u001b[1m)\u001b[0m = \u001b[1m[\u001b[0m\u001b[1;36m582712\u001b[0m/\u001b[1;36m319561\u001b[0m, \u001b[1;36m-582712\u001b[0m/\u001b[1;36m319561\u001b[0m\u001b[1m]\u001b[0m\n",
       "        📏 axis = \u001b[1m[\u001b[0m\u001b[1m[\u001b[0m\u001b[1;36m1\u001b[0m/√\u001b[1;36m5\u001b[0m, \u001b[1;36m726141\u001b[0m/\u001b[1;36m937444\u001b[0m, \u001b[1;36m-1\u001b[0m/√\u001b[1;36m5\u001b[0m\u001b[1m]\u001b[0m,\n",
       " \u001b[1m[\u001b[0m\u001b[1;36m-1\u001b[0m/√\u001b[1;36m5\u001b[0m, \u001b[1;36m-726141\u001b[0m/\u001b[1;36m937444\u001b[0m, \u001b[1;36m1\u001b[0m/√\u001b[1;36m5\u001b[0m\u001b[1m]\u001b[0m\u001b[1m]\u001b[0m\n"
      ]
     },
     "metadata": {},
     "output_type": "display_data"
    }
   ],
   "source": [
    "#find the angle and axis given the rotation matrix\n",
    "R=\"[[0,sqrt(3)/2,1/2],[0,1/2,-sqrt(3)/2],[-1,0,0]]\"\n",
    "rb.rotation_inverse(R, fract=True)"
   ]
  },
  {
   "cell_type": "markdown",
   "metadata": {},
   "source": [
    "## DIRECT EULER"
   ]
  },
  {
   "cell_type": "code",
   "execution_count": null,
   "metadata": {},
   "outputs": [],
   "source": [
    "alpha_1=\"pi/4\" #angle around y\n",
    "alpha_2=\"-pi/4\" #angle around x\n",
    "alpha_3=\"2*pi/3\" #angle around y\n",
    "\n",
    "Ry_1=rb.rotation_direct(alpha_1, axis='y')\n",
    "Rx_2=rb.rotation_direct(alpha_2, axis='x')\n",
    "Ry_3=rb.rotation_direct(alpha_3, axis='y')\n",
    "\n",
    "R=Ry_1@Rx_2@Ry_3"
   ]
  },
  {
   "cell_type": "markdown",
   "metadata": {},
   "source": [
    "## INVERSE EULER \n",
    "there's no code for the inverse euler problem :("
   ]
  },
  {
   "cell_type": "markdown",
   "metadata": {},
   "source": [
    "## EXAMPLE EXAM"
   ]
  },
  {
   "cell_type": "code",
   "execution_count": 27,
   "metadata": {},
   "outputs": [
    {
     "data": {
      "text/html": [
       "<pre style=\"white-space:pre;overflow-x:auto;line-height:normal;font-family:Menlo,'DejaVu Sans Mono',consolas,'Courier New',monospace\">🔄 Direct Rotation Matrix:\n",
       "<span style=\"font-weight: bold\">[[</span> <span style=\"color: #008080; text-decoration-color: #008080; font-weight: bold\">0.70710678</span>,  <span style=\"color: #008080; text-decoration-color: #008080; font-weight: bold\">0</span>.        ,  <span style=\"color: #008080; text-decoration-color: #008080; font-weight: bold\">0.70710678</span><span style=\"font-weight: bold\">]</span>,\n",
       " <span style=\"font-weight: bold\">[</span> <span style=\"color: #008080; text-decoration-color: #008080; font-weight: bold\">0</span>.        ,  <span style=\"color: #008080; text-decoration-color: #008080; font-weight: bold\">1</span>.        ,  <span style=\"color: #008080; text-decoration-color: #008080; font-weight: bold\">0</span>.        <span style=\"font-weight: bold\">]</span>,\n",
       " <span style=\"font-weight: bold\">[</span><span style=\"color: #008080; text-decoration-color: #008080; font-weight: bold\">-0.70710678</span>,  <span style=\"color: #008080; text-decoration-color: #008080; font-weight: bold\">0</span>.        ,  <span style=\"color: #008080; text-decoration-color: #008080; font-weight: bold\">0.70710678</span><span style=\"font-weight: bold\">]]</span>\n",
       "</pre>\n"
      ],
      "text/plain": [
       "🔄 Direct Rotation Matrix:\n",
       "\u001b[1m[\u001b[0m\u001b[1m[\u001b[0m \u001b[1;36m0.70710678\u001b[0m,  \u001b[1;36m0\u001b[0m.        ,  \u001b[1;36m0.70710678\u001b[0m\u001b[1m]\u001b[0m,\n",
       " \u001b[1m[\u001b[0m \u001b[1;36m0\u001b[0m.        ,  \u001b[1;36m1\u001b[0m.        ,  \u001b[1;36m0\u001b[0m.        \u001b[1m]\u001b[0m,\n",
       " \u001b[1m[\u001b[0m\u001b[1;36m-0.70710678\u001b[0m,  \u001b[1;36m0\u001b[0m.        ,  \u001b[1;36m0.70710678\u001b[0m\u001b[1m]\u001b[0m\u001b[1m]\u001b[0m\n"
      ]
     },
     "metadata": {},
     "output_type": "display_data"
    },
    {
     "data": {
      "text/html": [
       "<pre style=\"white-space:pre;overflow-x:auto;line-height:normal;font-family:Menlo,'DejaVu Sans Mono',consolas,'Courier New',monospace\">🔄 Direct Rotation Matrix:\n",
       "<span style=\"font-weight: bold\">[[</span> <span style=\"color: #008080; text-decoration-color: #008080; font-weight: bold\">1</span>.        ,  <span style=\"color: #008080; text-decoration-color: #008080; font-weight: bold\">0</span>.        ,  <span style=\"color: #008080; text-decoration-color: #008080; font-weight: bold\">0</span>.        <span style=\"font-weight: bold\">]</span>,\n",
       " <span style=\"font-weight: bold\">[</span> <span style=\"color: #008080; text-decoration-color: #008080; font-weight: bold\">0</span>.        ,  <span style=\"color: #008080; text-decoration-color: #008080; font-weight: bold\">0.70710678</span>,  <span style=\"color: #008080; text-decoration-color: #008080; font-weight: bold\">0.70710678</span><span style=\"font-weight: bold\">]</span>,\n",
       " <span style=\"font-weight: bold\">[</span> <span style=\"color: #008080; text-decoration-color: #008080; font-weight: bold\">0</span>.        , <span style=\"color: #008080; text-decoration-color: #008080; font-weight: bold\">-0.70710678</span>,  <span style=\"color: #008080; text-decoration-color: #008080; font-weight: bold\">0.70710678</span><span style=\"font-weight: bold\">]]</span>\n",
       "</pre>\n"
      ],
      "text/plain": [
       "🔄 Direct Rotation Matrix:\n",
       "\u001b[1m[\u001b[0m\u001b[1m[\u001b[0m \u001b[1;36m1\u001b[0m.        ,  \u001b[1;36m0\u001b[0m.        ,  \u001b[1;36m0\u001b[0m.        \u001b[1m]\u001b[0m,\n",
       " \u001b[1m[\u001b[0m \u001b[1;36m0\u001b[0m.        ,  \u001b[1;36m0.70710678\u001b[0m,  \u001b[1;36m0.70710678\u001b[0m\u001b[1m]\u001b[0m,\n",
       " \u001b[1m[\u001b[0m \u001b[1;36m0\u001b[0m.        , \u001b[1;36m-0.70710678\u001b[0m,  \u001b[1;36m0.70710678\u001b[0m\u001b[1m]\u001b[0m\u001b[1m]\u001b[0m\n"
      ]
     },
     "metadata": {},
     "output_type": "display_data"
    },
    {
     "data": {
      "text/html": [
       "<pre style=\"white-space:pre;overflow-x:auto;line-height:normal;font-family:Menlo,'DejaVu Sans Mono',consolas,'Courier New',monospace\">🔄 Direct Rotation Matrix:\n",
       "<span style=\"font-weight: bold\">[[</span><span style=\"color: #008080; text-decoration-color: #008080; font-weight: bold\">-0.5</span>      ,  <span style=\"color: #008080; text-decoration-color: #008080; font-weight: bold\">0</span>.       ,  <span style=\"color: #008080; text-decoration-color: #008080; font-weight: bold\">0.8660254</span><span style=\"font-weight: bold\">]</span>,\n",
       " <span style=\"font-weight: bold\">[</span> <span style=\"color: #008080; text-decoration-color: #008080; font-weight: bold\">0</span>.       ,  <span style=\"color: #008080; text-decoration-color: #008080; font-weight: bold\">1</span>.       ,  <span style=\"color: #008080; text-decoration-color: #008080; font-weight: bold\">0</span>.       <span style=\"font-weight: bold\">]</span>,\n",
       " <span style=\"font-weight: bold\">[</span><span style=\"color: #008080; text-decoration-color: #008080; font-weight: bold\">-0.8660254</span>,  <span style=\"color: #008080; text-decoration-color: #008080; font-weight: bold\">0</span>.       , <span style=\"color: #008080; text-decoration-color: #008080; font-weight: bold\">-0.5</span>      <span style=\"font-weight: bold\">]]</span>\n",
       "</pre>\n"
      ],
      "text/plain": [
       "🔄 Direct Rotation Matrix:\n",
       "\u001b[1m[\u001b[0m\u001b[1m[\u001b[0m\u001b[1;36m-0.5\u001b[0m      ,  \u001b[1;36m0\u001b[0m.       ,  \u001b[1;36m0.8660254\u001b[0m\u001b[1m]\u001b[0m,\n",
       " \u001b[1m[\u001b[0m \u001b[1;36m0\u001b[0m.       ,  \u001b[1;36m1\u001b[0m.       ,  \u001b[1;36m0\u001b[0m.       \u001b[1m]\u001b[0m,\n",
       " \u001b[1m[\u001b[0m\u001b[1;36m-0.8660254\u001b[0m,  \u001b[1;36m0\u001b[0m.       , \u001b[1;36m-0.5\u001b[0m      \u001b[1m]\u001b[0m\u001b[1m]\u001b[0m\n"
      ]
     },
     "metadata": {},
     "output_type": "display_data"
    },
    {
     "data": {
      "text/html": [
       "<pre style=\"white-space:pre;overflow-x:auto;line-height:normal;font-family:Menlo,'DejaVu Sans Mono',consolas,'Courier New',monospace\"><span style=\"font-weight: bold\">[[</span><span style=\"color: #008080; text-decoration-color: #008080; font-weight: bold\">-0.78656609</span>, <span style=\"color: #008080; text-decoration-color: #008080; font-weight: bold\">-0.5</span>       ,  <span style=\"color: #008080; text-decoration-color: #008080; font-weight: bold\">0.36237244</span><span style=\"font-weight: bold\">]</span>,\n",
       " <span style=\"font-weight: bold\">[</span><span style=\"color: #008080; text-decoration-color: #008080; font-weight: bold\">-0.61237244</span>,  <span style=\"color: #008080; text-decoration-color: #008080; font-weight: bold\">0.70710678</span>, <span style=\"color: #008080; text-decoration-color: #008080; font-weight: bold\">-0.35355339</span><span style=\"font-weight: bold\">]</span>,\n",
       " <span style=\"font-weight: bold\">[</span><span style=\"color: #008080; text-decoration-color: #008080; font-weight: bold\">-0.07945931</span>, <span style=\"color: #008080; text-decoration-color: #008080; font-weight: bold\">-0.5</span>       , <span style=\"color: #008080; text-decoration-color: #008080; font-weight: bold\">-0.86237244</span><span style=\"font-weight: bold\">]]</span>\n",
       "</pre>\n"
      ],
      "text/plain": [
       "\u001b[1m[\u001b[0m\u001b[1m[\u001b[0m\u001b[1;36m-0.78656609\u001b[0m, \u001b[1;36m-0.5\u001b[0m       ,  \u001b[1;36m0.36237244\u001b[0m\u001b[1m]\u001b[0m,\n",
       " \u001b[1m[\u001b[0m\u001b[1;36m-0.61237244\u001b[0m,  \u001b[1;36m0.70710678\u001b[0m, \u001b[1;36m-0.35355339\u001b[0m\u001b[1m]\u001b[0m,\n",
       " \u001b[1m[\u001b[0m\u001b[1;36m-0.07945931\u001b[0m, \u001b[1;36m-0.5\u001b[0m       , \u001b[1;36m-0.86237244\u001b[0m\u001b[1m]\u001b[0m\u001b[1m]\u001b[0m\n"
      ]
     },
     "metadata": {},
     "output_type": "display_data"
    },
    {
     "data": {
      "text/html": [
       "<pre style=\"white-space:pre;overflow-x:auto;line-height:normal;font-family:Menlo,'DejaVu Sans Mono',consolas,'Courier New',monospace\">orf: <span style=\"font-weight: bold\">[[</span><span style=\"color: #008080; text-decoration-color: #008080; font-weight: bold\">-0.78656609</span> <span style=\"color: #008080; text-decoration-color: #008080; font-weight: bold\">-0.5</span>         <span style=\"color: #008080; text-decoration-color: #008080; font-weight: bold\">0.36237244</span><span style=\"font-weight: bold\">]</span>\n",
       " <span style=\"font-weight: bold\">[</span><span style=\"color: #008080; text-decoration-color: #008080; font-weight: bold\">-0.61237244</span>  <span style=\"color: #008080; text-decoration-color: #008080; font-weight: bold\">0.70710678</span> <span style=\"color: #008080; text-decoration-color: #008080; font-weight: bold\">-0.35355339</span><span style=\"font-weight: bold\">]</span>\n",
       " <span style=\"font-weight: bold\">[</span><span style=\"color: #008080; text-decoration-color: #008080; font-weight: bold\">-0.07945931</span> <span style=\"color: #008080; text-decoration-color: #008080; font-weight: bold\">-0.5</span>        <span style=\"color: #008080; text-decoration-color: #008080; font-weight: bold\">-0.86237244</span><span style=\"font-weight: bold\">]]</span>\n",
       "</pre>\n"
      ],
      "text/plain": [
       "orf: \u001b[1m[\u001b[0m\u001b[1m[\u001b[0m\u001b[1;36m-0.78656609\u001b[0m \u001b[1;36m-0.5\u001b[0m         \u001b[1;36m0.36237244\u001b[0m\u001b[1m]\u001b[0m\n",
       " \u001b[1m[\u001b[0m\u001b[1;36m-0.61237244\u001b[0m  \u001b[1;36m0.70710678\u001b[0m \u001b[1;36m-0.35355339\u001b[0m\u001b[1m]\u001b[0m\n",
       " \u001b[1m[\u001b[0m\u001b[1;36m-0.07945931\u001b[0m \u001b[1;36m-0.5\u001b[0m        \u001b[1;36m-0.86237244\u001b[0m\u001b[1m]\u001b[0m\u001b[1m]\u001b[0m\n"
      ]
     },
     "metadata": {},
     "output_type": "display_data"
    },
    {
     "data": {
      "text/html": [
       "<pre style=\"white-space:pre;overflow-x:auto;line-height:normal;font-family:Menlo,'DejaVu Sans Mono',consolas,'Courier New',monospace\">transpose: <span style=\"font-weight: bold\">[[</span> <span style=\"color: #008080; text-decoration-color: #008080; font-weight: bold\">0</span>.         <span style=\"color: #008080; text-decoration-color: #008080; font-weight: bold\">0</span>.        <span style=\"color: #008080; text-decoration-color: #008080; font-weight: bold\">-1</span>.       <span style=\"font-weight: bold\">]</span>\n",
       " <span style=\"font-weight: bold\">[</span> <span style=\"color: #008080; text-decoration-color: #008080; font-weight: bold\">0.8660254</span>  <span style=\"color: #008080; text-decoration-color: #008080; font-weight: bold\">0.5</span>        <span style=\"color: #008080; text-decoration-color: #008080; font-weight: bold\">0</span>.       <span style=\"font-weight: bold\">]</span>\n",
       " <span style=\"font-weight: bold\">[</span> <span style=\"color: #008080; text-decoration-color: #008080; font-weight: bold\">0.5</span>       <span style=\"color: #008080; text-decoration-color: #008080; font-weight: bold\">-0.8660254</span>  <span style=\"color: #008080; text-decoration-color: #008080; font-weight: bold\">0</span>.       <span style=\"font-weight: bold\">]]</span>\n",
       "</pre>\n"
      ],
      "text/plain": [
       "transpose: \u001b[1m[\u001b[0m\u001b[1m[\u001b[0m \u001b[1;36m0\u001b[0m.         \u001b[1;36m0\u001b[0m.        \u001b[1;36m-1\u001b[0m.       \u001b[1m]\u001b[0m\n",
       " \u001b[1m[\u001b[0m \u001b[1;36m0.8660254\u001b[0m  \u001b[1;36m0.5\u001b[0m        \u001b[1;36m0\u001b[0m.       \u001b[1m]\u001b[0m\n",
       " \u001b[1m[\u001b[0m \u001b[1;36m0.5\u001b[0m       \u001b[1;36m-0.8660254\u001b[0m  \u001b[1;36m0\u001b[0m.       \u001b[1m]\u001b[0m\u001b[1m]\u001b[0m\n"
      ]
     },
     "metadata": {},
     "output_type": "display_data"
    },
    {
     "data": {
      "text/html": [
       "<pre style=\"white-space:pre;overflow-x:auto;line-height:normal;font-family:Menlo,'DejaVu Sans Mono',consolas,'Courier New',monospace\"><span style=\"font-weight: bold\">[[</span><span style=\"color: #008080; text-decoration-color: #008080; font-weight: bold\">0.0795</span>, <span style=\"color: #008080; text-decoration-color: #008080; font-weight: bold\">0.5000</span>, <span style=\"color: #008080; text-decoration-color: #008080; font-weight: bold\">0.8624</span><span style=\"font-weight: bold\">]</span>,\n",
       " <span style=\"font-weight: bold\">[</span><span style=\"color: #008080; text-decoration-color: #008080; font-weight: bold\">-0.9874</span>, <span style=\"color: #008080; text-decoration-color: #008080; font-weight: bold\">-0.0795</span>, <span style=\"color: #008080; text-decoration-color: #008080; font-weight: bold\">0.1370</span><span style=\"font-weight: bold\">]</span>,\n",
       " <span style=\"font-weight: bold\">[</span><span style=\"color: #008080; text-decoration-color: #008080; font-weight: bold\">0.1370</span>, <span style=\"color: #008080; text-decoration-color: #008080; font-weight: bold\">-0.8624</span>, <span style=\"color: #008080; text-decoration-color: #008080; font-weight: bold\">0.4874</span><span style=\"font-weight: bold\">]]</span>\n",
       "</pre>\n"
      ],
      "text/plain": [
       "\u001b[1m[\u001b[0m\u001b[1m[\u001b[0m\u001b[1;36m0.0795\u001b[0m, \u001b[1;36m0.5000\u001b[0m, \u001b[1;36m0.8624\u001b[0m\u001b[1m]\u001b[0m,\n",
       " \u001b[1m[\u001b[0m\u001b[1;36m-0.9874\u001b[0m, \u001b[1;36m-0.0795\u001b[0m, \u001b[1;36m0.1370\u001b[0m\u001b[1m]\u001b[0m,\n",
       " \u001b[1m[\u001b[0m\u001b[1;36m0.1370\u001b[0m, \u001b[1;36m-0.8624\u001b[0m, \u001b[1;36m0.4874\u001b[0m\u001b[1m]\u001b[0m\u001b[1m]\u001b[0m\n"
      ]
     },
     "metadata": {},
     "output_type": "display_data"
    }
   ],
   "source": [
    "#EXERCISE 1\n",
    "alpha_1=\"pi/4\"\n",
    "alpha_2=\"-pi/4\"\n",
    "alpha_3=\"2*pi/3\"\n",
    "\n",
    "Ry_1=rb.rotation_direct(alpha_1, axis='y')\n",
    "Rx_2=rb.rotation_direct(alpha_2, axis='x')\n",
    "Ry_3=rb.rotation_direct(alpha_3, axis='y')\n",
    "\n",
    "ORf=Ry_1@Rx_2@Ry_3\n",
    "fmt_foo = lambda arr: rb.fmt_array(ORf, False, False)\n",
    "print(fmt_foo(ORf))\n",
    "\n",
    "ORi=np.array([[0,np.sqrt(3)/2,1/2],[0,1/2,-np.sqrt(3)/2],[-1,0,0]])\n",
    "\n",
    "print('orf:',ORf)\n",
    "print('transpose:',ORi.T)\n",
    "\n",
    "iRf=np.matmul(ORi.T,ORf)\n",
    "fmt_foo = lambda arr: rb.fmt_array(iRf, False, True)\n",
    "print(fmt_foo(iRf))"
   ]
  }
 ],
 "metadata": {
  "kernelspec": {
   "display_name": ".venv",
   "language": "python",
   "name": "python3"
  },
  "language_info": {
   "codemirror_mode": {
    "name": "ipython",
    "version": 3
   },
   "file_extension": ".py",
   "mimetype": "text/x-python",
   "name": "python",
   "nbconvert_exporter": "python",
   "pygments_lexer": "ipython3",
   "version": "3.11.6"
  }
 },
 "nbformat": 4,
 "nbformat_minor": 2
}
