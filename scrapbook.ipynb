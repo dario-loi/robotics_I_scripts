{
 "cells": [
  {
   "cell_type": "markdown",
   "metadata": {},
   "source": [
    "# Contents\n",
    "\n",
    "This is a notebook that imports the robots libraries and a bunch of useful stuff\n",
    "\n",
    "I use this to perform explorative sessions when debugging/testing some aspects of the library\n",
    "\n",
    "Feel free to reuse this at the exam!\n",
    "\n",
    "(remember to use the pdm provided .venv on the top right corner of the notebook)"
   ]
  },
  {
   "cell_type": "code",
   "execution_count": 1,
   "metadata": {},
   "outputs": [],
   "source": [
    "import pyrobots as pr\n",
    "import numpy as np\n",
    "from rich import print\n"
   ]
  },
  {
   "cell_type": "code",
   "execution_count": 2,
   "metadata": {},
   "outputs": [],
   "source": [
    "import numpy as np"
   ]
  },
  {
   "cell_type": "code",
   "execution_count": 3,
   "metadata": {},
   "outputs": [],
   "source": [
    "angle = -30\n",
    "\n",
    "angles_rad = np.deg2rad(angle)"
   ]
  },
  {
   "cell_type": "code",
   "execution_count": 4,
   "metadata": {},
   "outputs": [
    {
     "data": {
      "text/plain": [
       "-0.5235987755982988"
      ]
     },
     "execution_count": 4,
     "metadata": {},
     "output_type": "execute_result"
    }
   ],
   "source": [
    "angles_rad"
   ]
  },
  {
   "cell_type": "code",
   "execution_count": 5,
   "metadata": {},
   "outputs": [],
   "source": [
    "def is_skew_symmetric_matrix(A):\n",
    "    return np.allclose(A.T, -A)"
   ]
  },
  {
   "cell_type": "code",
   "execution_count": 6,
   "metadata": {},
   "outputs": [],
   "source": [
    "A = pr.rotations.direct_rot_mat(np.pi, np.array([1,0,0]))"
   ]
  },
  {
   "cell_type": "code",
   "execution_count": 7,
   "metadata": {},
   "outputs": [],
   "source": [
    "O , S= pr.direct_generic((\"y\", \"x\", \"y\"), (np.pi/2, -np.pi/4, np.pi/4), get_symbolic=True)\n",
    "R = pr.rotations.direct_rot_mat(angles_rad, np.array([1/np.sqrt(3),-1/np.sqrt(3),1/np.sqrt(3)]))"
   ]
  },
  {
   "cell_type": "code",
   "execution_count": 8,
   "metadata": {},
   "outputs": [],
   "source": [
    "A = pr.rotations.gen_pitch(\"t\")\n",
    "a = A.subs({\"t\": np.pi/2})"
   ]
  },
  {
   "cell_type": "code",
   "execution_count": 9,
   "metadata": {},
   "outputs": [],
   "source": [
    "B = pr.rotations.gen_roll(\"phi_1\")\n",
    "b = B.subs(\"phi_1\", -np.pi/4)"
   ]
  },
  {
   "cell_type": "code",
   "execution_count": 10,
   "metadata": {},
   "outputs": [],
   "source": [
    "C = pr.rotations.gen_pitch(\"theta_2\")\n",
    "c = C.subs(\"theta_2\", np.pi/4)"
   ]
  },
  {
   "cell_type": "code",
   "execution_count": 11,
   "metadata": {},
   "outputs": [
    {
     "data": {
      "image/png": "[encoded data removed]",
      "text/latex": [
       "$\\displaystyle \\left[\\begin{matrix}- \\sin{\\left(t \\right)} \\sin{\\left(\\theta_{2} \\right)} \\cos{\\left(\\phi_{1} \\right)} + \\cos{\\left(t \\right)} \\cos{\\left(\\theta_{2} \\right)} & \\sin{\\left(\\phi_{1} \\right)} \\sin{\\left(t \\right)} & \\sin{\\left(t \\right)} \\cos{\\left(\\phi_{1} \\right)} \\cos{\\left(\\theta_{2} \\right)} + \\sin{\\left(\\theta_{2} \\right)} \\cos{\\left(t \\right)}\\\\\\sin{\\left(\\phi_{1} \\right)} \\sin{\\left(\\theta_{2} \\right)} & \\cos{\\left(\\phi_{1} \\right)} & - \\sin{\\left(\\phi_{1} \\right)} \\cos{\\left(\\theta_{2} \\right)}\\\\- \\sin{\\left(t \\right)} \\cos{\\left(\\theta_{2} \\right)} - \\sin{\\left(\\theta_{2} \\right)} \\cos{\\left(\\phi_{1} \\right)} \\cos{\\left(t \\right)} & \\sin{\\left(\\phi_{1} \\right)} \\cos{\\left(t \\right)} & - \\sin{\\left(t \\right)} \\sin{\\left(\\theta_{2} \\right)} + \\cos{\\left(\\phi_{1} \\right)} \\cos{\\left(t \\right)} \\cos{\\left(\\theta_{2} \\right)}\\end{matrix}\\right]$"
      ],
      "text/plain": [
       "⎡-sin(t)⋅sin(θ₂)⋅cos(φ₁) + cos(t)⋅cos(θ₂)  sin(φ₁)⋅sin(t)  sin(t)⋅cos(φ₁)⋅cos(\n",
       "⎢                                                                             \n",
       "⎢            sin(φ₁)⋅sin(θ₂)                  cos(φ₁)                  -sin(φ₁\n",
       "⎢                                                                             \n",
       "⎣-sin(t)⋅cos(θ₂) - sin(θ₂)⋅cos(φ₁)⋅cos(t)  sin(φ₁)⋅cos(t)  -sin(t)⋅sin(θ₂) + c\n",
       "\n",
       "θ₂) + sin(θ₂)⋅cos(t) ⎤\n",
       "                     ⎥\n",
       ")⋅cos(θ₂)            ⎥\n",
       "                     ⎥\n",
       "os(φ₁)⋅cos(t)⋅cos(θ₂)⎦"
      ]
     },
     "execution_count": 11,
     "metadata": {},
     "output_type": "execute_result"
    }
   ],
   "source": [
    "Z = A @ B @ C\n",
    "Z"
   ]
  },
  {
   "cell_type": "code",
   "execution_count": 12,
   "metadata": {},
   "outputs": [
    {
     "data": {
      "image/png": "[encoded data removed]",
      "text/latex": [
       "$\\displaystyle \\left[\\begin{matrix}- \\sin{\\left(\\theta_{0} \\right)} \\sin{\\left(\\theta_{2} \\right)} \\cos{\\left(\\phi_{1} \\right)} + \\cos{\\left(\\theta_{0} \\right)} \\cos{\\left(\\theta_{2} \\right)} & \\sin{\\left(\\phi_{1} \\right)} \\sin{\\left(\\theta_{2} \\right)} & \\sin{\\left(\\theta_{0} \\right)} \\cos{\\left(\\theta_{2} \\right)} + \\sin{\\left(\\theta_{2} \\right)} \\cos{\\left(\\phi_{1} \\right)} \\cos{\\left(\\theta_{0} \\right)}\\\\\\sin{\\left(\\phi_{1} \\right)} \\sin{\\left(\\theta_{0} \\right)} & \\cos{\\left(\\phi_{1} \\right)} & - \\sin{\\left(\\phi_{1} \\right)} \\cos{\\left(\\theta_{0} \\right)}\\\\- \\sin{\\left(\\theta_{0} \\right)} \\cos{\\left(\\phi_{1} \\right)} \\cos{\\left(\\theta_{2} \\right)} - \\sin{\\left(\\theta_{2} \\right)} \\cos{\\left(\\theta_{0} \\right)} & \\sin{\\left(\\phi_{1} \\right)} \\cos{\\left(\\theta_{2} \\right)} & - \\sin{\\left(\\theta_{0} \\right)} \\sin{\\left(\\theta_{2} \\right)} + \\cos{\\left(\\phi_{1} \\right)} \\cos{\\left(\\theta_{0} \\right)} \\cos{\\left(\\theta_{2} \\right)}\\end{matrix}\\right]$"
      ],
      "text/plain": [
       "⎡-sin(θ₀)⋅sin(θ₂)⋅cos(φ₁) + cos(θ₀)⋅cos(θ₂)  sin(φ₁)⋅sin(θ₂)  sin(θ₀)⋅cos(θ₂) \n",
       "⎢                                                                             \n",
       "⎢             sin(φ₁)⋅sin(θ₀)                    cos(φ₁)                   -si\n",
       "⎢                                                                             \n",
       "⎣-sin(θ₀)⋅cos(φ₁)⋅cos(θ₂) - sin(θ₂)⋅cos(θ₀)  sin(φ₁)⋅cos(θ₂)  -sin(θ₀)⋅sin(θ₂)\n",
       "\n",
       "+ sin(θ₂)⋅cos(φ₁)⋅cos(θ₀) ⎤\n",
       "                          ⎥\n",
       "n(φ₁)⋅cos(θ₀)             ⎥\n",
       "                          ⎥\n",
       " + cos(φ₁)⋅cos(θ₀)⋅cos(θ₂)⎦"
      ]
     },
     "execution_count": 12,
     "metadata": {},
     "output_type": "execute_result"
    }
   ],
   "source": [
    "O , S = pr.direct_generic((\"y\", \"x\", \"y\"), (np.pi/2, -np.pi/4, np.pi/4), get_symbolic=True)\n",
    "S"
   ]
  },
  {
   "cell_type": "code",
   "execution_count": 13,
   "metadata": {},
   "outputs": [
    {
     "data": {
      "text/plain": [
       "array([[-0.500000000000000, -0.707106781186547, 0.500000000000000],\n",
       "       [-0.500000000000000, 0.707106781186548, 0.500000000000000],\n",
       "       [-0.707106781186548, -4.32978028117747e-17, -0.707106781186547]],\n",
       "      dtype=object)"
      ]
     },
     "execution_count": 13,
     "metadata": {},
     "output_type": "execute_result"
    }
   ],
   "source": [
    "np.array(a @ b @ c)"
   ]
  },
  {
   "cell_type": "code",
   "execution_count": 14,
   "metadata": {},
   "outputs": [
    {
     "data": {
      "text/plain": [
       "array([[-5.00000000e-01, -7.07106781e-01,  5.00000000e-01],\n",
       "       [-5.00000000e-01,  7.07106781e-01,  5.00000000e-01],\n",
       "       [-7.07106781e-01, -4.32978028e-17, -7.07106781e-01]])"
      ]
     },
     "execution_count": 14,
     "metadata": {},
     "output_type": "execute_result"
    }
   ],
   "source": [
    "O"
   ]
  },
  {
   "cell_type": "code",
   "execution_count": 15,
   "metadata": {},
   "outputs": [],
   "source": [
    "Initial = np.linalg.inv(R) @ O"
   ]
  },
  {
   "cell_type": "code",
   "execution_count": 16,
   "metadata": {},
   "outputs": [
    {
     "data": {
      "text/plain": [
       "array([[-0.1161291 , -0.87965281,  0.46122116],\n",
       "       [-0.34164801,  0.47140452,  0.81305253],\n",
       "       [-0.93262569, -0.06315623, -0.35527542]])"
      ]
     },
     "execution_count": 16,
     "metadata": {},
     "output_type": "execute_result"
    }
   ],
   "source": [
    "Initial"
   ]
  },
  {
   "cell_type": "code",
   "execution_count": 17,
   "metadata": {},
   "outputs": [
    {
     "data": {
      "image/png": "[encoded data removed]",
      "text/latex": [
       "$\\displaystyle 1.0$"
      ],
      "text/plain": [
       "1.0"
      ]
     },
     "execution_count": 17,
     "metadata": {},
     "output_type": "execute_result"
    }
   ],
   "source": [
    "np.linalg.det(Initial)"
   ]
  },
  {
   "cell_type": "code",
   "execution_count": 18,
   "metadata": {},
   "outputs": [
    {
     "data": {
      "text/plain": [
       "True"
      ]
     },
     "execution_count": 18,
     "metadata": {},
     "output_type": "execute_result"
    }
   ],
   "source": [
    "np.allclose(np.dot(R.T, R), np.eye(3))"
   ]
  },
  {
   "cell_type": "code",
   "execution_count": 19,
   "metadata": {},
   "outputs": [
    {
     "data": {
      "text/plain": [
       "((-2.965663515564169, 1.2016222258862326, -1.898452923708797, None),\n",
       " (0.17592913802562457, 1.9399704277035608, 1.243139729880996, None))"
      ]
     },
     "execution_count": 19,
     "metadata": {},
     "output_type": "execute_result"
    }
   ],
   "source": [
    "pr.rotations.inverse_rpy(\n",
    "    Initial\n",
    ")"
   ]
  },
  {
   "cell_type": "code",
   "execution_count": 20,
   "metadata": {},
   "outputs": [],
   "source": [
    "Rf = np.array(\n",
    "    [\n",
    "        [1, 0, 0],\n",
    "        [0, -1, 0],\n",
    "        [0, 0, -1]\n",
    "    ]\n",
    ")\n",
    "\n",
    "Ri = np.array(\n",
    "    [\n",
    "        [0, 1, 0],\n",
    "        [0.5, 0, np.sqrt(3)/2],\n",
    "        [np.sqrt(3)/2, 0, -0.5]\n",
    "    ]\n",
    ")\n"
   ]
  },
  {
   "cell_type": "code",
   "execution_count": 21,
   "metadata": {},
   "outputs": [],
   "source": [
    "res = Ri.T @ Rf"
   ]
  },
  {
   "cell_type": "code",
   "execution_count": 22,
   "metadata": {},
   "outputs": [
    {
     "data": {
      "text/plain": [
       "array([[ 0.       , -0.5      , -0.8660254],\n",
       "       [ 1.       ,  0.       ,  0.       ],\n",
       "       [ 0.       , -0.8660254,  0.5      ]])"
      ]
     },
     "execution_count": 22,
     "metadata": {},
     "output_type": "execute_result"
    }
   ],
   "source": [
    "res"
   ]
  },
  {
   "cell_type": "markdown",
   "metadata": {},
   "source": [
    "$$\\theta = 1.8235 \\\\\n",
    "x = \\begin{bmatrix}-0.4472, -0.4472, 0.7746\\end{bmatrix}$$"
   ]
  },
  {
   "cell_type": "code",
   "execution_count": 23,
   "metadata": {},
   "outputs": [],
   "source": [
    "ax = np.array([-0.4472, -0.4472, 0.7746])"
   ]
  },
  {
   "cell_type": "code",
   "execution_count": 24,
   "metadata": {},
   "outputs": [
    {
     "data": {
      "image/png": "[encoded data removed]",
      "text/latex": [
       "$\\displaystyle 0.707106781186548$"
      ],
      "text/plain": [
       "0.7071067811865476"
      ]
     },
     "execution_count": 24,
     "metadata": {},
     "output_type": "execute_result"
    }
   ],
   "source": [
    "np.sqrt(2)/2"
   ]
  },
  {
   "cell_type": "code",
   "execution_count": 25,
   "metadata": {},
   "outputs": [],
   "source": [
    "M = np.array(\n",
    "    [\n",
    "        [-np.sqrt(2)/2, 0.5, -0.5, -1],\n",
    "        [-np.sqrt(2)/2, -0.5, 0.5, -1],\n",
    "        [0, np.sqrt(2)/2, np.sqrt(2)/2, -np.sqrt(2)/2],\n",
    "        [0, 0, 0, 1]\n",
    "    ]\n",
    ")"
   ]
  },
  {
   "cell_type": "code",
   "execution_count": 26,
   "metadata": {},
   "outputs": [
    {
     "data": {
      "text/plain": [
       "array([[-0.70710678,  0.5       , -0.5       , -1.        ],\n",
       "       [-0.70710678, -0.5       ,  0.5       , -1.        ],\n",
       "       [ 0.        ,  0.70710678,  0.70710678, -0.70710678],\n",
       "       [ 0.        ,  0.        ,  0.        ,  1.        ]])"
      ]
     },
     "execution_count": 26,
     "metadata": {},
     "output_type": "execute_result"
    }
   ],
   "source": [
    "M"
   ]
  },
  {
   "cell_type": "code",
   "execution_count": 27,
   "metadata": {},
   "outputs": [],
   "source": [
    "# recover denavit hartenberg parameters\n",
    "2\n",
    "alpha = np.arctan2(M[2,1], M[2,2])\n",
    "theta = np.arctan2(M[0, 1], M[0,0])\n",
    "d = M[2, 3]\n",
    "a = M[0, 3] * np.cos(theta) + M[1, 3] * np.sin(theta)"
   ]
  },
  {
   "cell_type": "code",
   "execution_count": 28,
   "metadata": {},
   "outputs": [
    {
     "data": {
      "image/png": "[encoded data removed]",
      "text/latex": [
       "$\\displaystyle 2.52611294491941$"
      ],
      "text/plain": [
       "2.5261129449194057"
      ]
     },
     "execution_count": 28,
     "metadata": {},
     "output_type": "execute_result"
    }
   ],
   "source": [
    "np.arctan2(M[0, 1], M[0,0])"
   ]
  },
  {
   "cell_type": "code",
   "execution_count": 29,
   "metadata": {},
   "outputs": [
    {
     "data": {
      "image/png": "[encoded data removed]",
      "text/latex": [
       "$\\displaystyle \\left( 0.5, \\  -0.707106781186548\\right)$"
      ],
      "text/plain": [
       "(0.5, -0.7071067811865476)"
      ]
     },
     "execution_count": 29,
     "metadata": {},
     "output_type": "execute_result"
    }
   ],
   "source": [
    "M[0, 1], M[0,0]"
   ]
  },
  {
   "cell_type": "code",
   "execution_count": 30,
   "metadata": {},
   "outputs": [
    {
     "data": {
      "image/png": "[encoded data removed]",
      "text/latex": [
       "$\\displaystyle -2.35619449019234$"
      ],
      "text/plain": [
       "-2.356194490192345"
      ]
     },
     "execution_count": 30,
     "metadata": {},
     "output_type": "execute_result"
    }
   ],
   "source": [
    "- (3 * np.pi)/4"
   ]
  },
  {
   "cell_type": "code",
   "execution_count": 31,
   "metadata": {},
   "outputs": [
    {
     "data": {
      "image/png": "[encoded data removed]",
      "text/latex": [
       "$\\displaystyle \\left( 0.785398163397448, \\  2.52611294491941, \\  -0.707106781186548, \\  0.2391463117381\\right)$"
      ],
      "text/plain": [
       "(0.7853981633974483, 2.5261129449194057, -0.7071067811865476, 0.23914631173810\n",
       "008)"
      ]
     },
     "execution_count": 31,
     "metadata": {},
     "output_type": "execute_result"
    }
   ],
   "source": [
    "alpha, theta, d, a "
   ]
  },
  {
   "cell_type": "code",
   "execution_count": 32,
   "metadata": {},
   "outputs": [
    {
     "data": {
      "image/png": "[encoded data removed]",
      "text/latex": [
       "$\\displaystyle -2.35619449019234$"
      ],
      "text/plain": [
       "-2.356194490192345"
      ]
     },
     "execution_count": 32,
     "metadata": {},
     "output_type": "execute_result"
    }
   ],
   "source": [
    "(-3 * np.pi) / 4"
   ]
  },
  {
   "cell_type": "code",
   "execution_count": 33,
   "metadata": {},
   "outputs": [
    {
     "data": {
      "text/plain": [
       "(array([[ 4.32978028e-17,  7.07106781e-01, -7.07106781e-01],\n",
       "        [-7.07106781e-01,  5.00000000e-01,  5.00000000e-01],\n",
       "        [ 7.07106781e-01,  5.00000000e-01,  5.00000000e-01]]),\n",
       " Matrix([\n",
       " [                                   cos(psi_0)*cos(theta_1),                                    -sin(psi_0)*cos(theta_1),             sin(theta_1)],\n",
       " [sin(phi_2)*sin(theta_1)*cos(psi_0) + sin(psi_0)*cos(phi_2), -sin(phi_2)*sin(psi_0)*sin(theta_1) + cos(phi_2)*cos(psi_0), -sin(phi_2)*cos(theta_1)],\n",
       " [sin(phi_2)*sin(psi_0) - sin(theta_1)*cos(phi_2)*cos(psi_0),  sin(phi_2)*cos(psi_0) + sin(psi_0)*sin(theta_1)*cos(phi_2),  cos(phi_2)*cos(theta_1)]]))"
      ]
     },
     "execution_count": 33,
     "metadata": {},
     "output_type": "execute_result"
    }
   ],
   "source": [
    "pr.direct_generic((\"z\", \"y\", \"x\"), (-np.pi/2, -np.pi/4, np.pi/4), get_symbolic=True)"
   ]
  },
  {
   "cell_type": "code",
   "execution_count": 34,
   "metadata": {},
   "outputs": [],
   "source": [
    "Ri = np.matrix([\n",
    "    [0,1,0],\n",
    "    [1/2,0,np.sqrt(3)/2],\n",
    "    [np.sqrt(3)/2,0,-1/2]\n",
    "])\n",
    "\n",
    "Rf = np.matrix([\n",
    "    [1,0,0],\n",
    "    [0,-1,0],\n",
    "    [0,0,-1]\n",
    "])\n",
    "\n",
    "R = Ri.T @ Rf"
   ]
  },
  {
   "cell_type": "code",
   "execution_count": 35,
   "metadata": {},
   "outputs": [
    {
     "data": {
      "text/plain": [
       "matrix([[ 0.       , -0.5      , -0.8660254],\n",
       "        [ 1.       ,  0.       ,  0.       ],\n",
       "        [ 0.       , -0.8660254,  0.5      ]])"
      ]
     },
     "execution_count": 35,
     "metadata": {},
     "output_type": "execute_result"
    }
   ],
   "source": [
    "R"
   ]
  },
  {
   "cell_type": "code",
   "execution_count": 36,
   "metadata": {},
   "outputs": [
    {
     "data": {
      "text/plain": [
       "matrix([[-0.4472    ,  0.44722328, -0.77458656]])"
      ]
     },
     "execution_count": 36,
     "metadata": {},
     "output_type": "execute_result"
    }
   ],
   "source": [
    "Ri @ np.array([-0.4472, -0.4472, 0.7746])"
   ]
  },
  {
   "cell_type": "code",
   "execution_count": 37,
   "metadata": {},
   "outputs": [],
   "source": [
    "dh_table = np.array([\n",
    "    [\"0\", \"0\", \"q1\", \"0\"],\n",
    "    [\"N\", \"-pi/2\", \"0\", \"q2\"],\n",
    "    [\"0\", \"0\", \"q3\", \"0\"],\n",
    "    [\"0\", \"0\", \"0\", \"q4\"]\n",
    "])"
   ]
  },
  {
   "cell_type": "code",
   "execution_count": 38,
   "metadata": {},
   "outputs": [
    {
     "data": {
      "image/png": "[encoded data removed]",
      "text/latex": [
       "$\\displaystyle \\left[\\begin{matrix}\\cos{\\left(q_{2} \\right)} \\cos{\\left(q_{4} \\right)} & - \\sin{\\left(q_{4} \\right)} \\cos{\\left(q_{2} \\right)} & - \\sin{\\left(q_{2} \\right)} & N \\cos{\\left(q_{2} \\right)} - q_{3} \\sin{\\left(q_{2} \\right)}\\\\\\sin{\\left(q_{2} \\right)} \\cos{\\left(q_{4} \\right)} & - \\sin{\\left(q_{2} \\right)} \\sin{\\left(q_{4} \\right)} & \\cos{\\left(q_{2} \\right)} & N \\sin{\\left(q_{2} \\right)} + q_{3} \\cos{\\left(q_{2} \\right)}\\\\- \\sin{\\left(q_{4} \\right)} & - \\cos{\\left(q_{4} \\right)} & 0 & q_{1}\\\\0 & 0 & 0 & 1\\end{matrix}\\right]$"
      ],
      "text/plain": [
       "⎡cos(q₂)⋅cos(q₄)  -sin(q₄)⋅cos(q₂)  -sin(q₂)  N⋅cos(q₂) - q₃⋅sin(q₂)⎤\n",
       "⎢                                                                   ⎥\n",
       "⎢sin(q₂)⋅cos(q₄)  -sin(q₂)⋅sin(q₄)  cos(q₂)   N⋅sin(q₂) + q₃⋅cos(q₂)⎥\n",
       "⎢                                                                   ⎥\n",
       "⎢   -sin(q₄)          -cos(q₄)         0                q₁          ⎥\n",
       "⎢                                                                   ⎥\n",
       "⎣       0                0             0                1           ⎦"
      ]
     },
     "execution_count": 38,
     "metadata": {},
     "output_type": "execute_result"
    }
   ],
   "source": [
    "pr.den_hart.mat_dh_symbolic(dh_table)"
   ]
  },
  {
   "cell_type": "code",
   "execution_count": 39,
   "metadata": {},
   "outputs": [],
   "source": [
    "from sympy import symbols, Eq, solve, Matrix, cos, sin, pprint, I, init_printing, atan2\n",
    "\n",
    "init_printing()\n",
    "\n",
    "# Define symbolic variables\n",
    "q1, q2, q3 = symbols(\"q1 q2 q3\")\n",
    "\n",
    "# Define symbolic matrices\n",
    "N = symbols(\"N\", positive=True)\n",
    "A = Matrix([\n",
    "    [N, -q3, 0],\n",
    "    [q3, N, 0],\n",
    "    [0, 0, 1]\n",
    "])\n",
    "\n",
    "x = Matrix([\n",
    "    [cos(q2)],\n",
    "    [sin(q2)],\n",
    "    [q1]\n",
    "])\n",
    "\n",
    "p = Matrix([\n",
    "    0, 2, 1.5])\n",
    "\n",
    "# Set up the equation\n",
    "equation = Eq(A * x, p)\n",
    "constraints = (Eq(x[0]**2 + x[1]**2, 1), Eq(x[2], p[2])) # x^2 + y^2 = 1, z = 1.5\n",
    "\n",
    "\n",
    "\n",
    "# Solve for parameters\n",
    "sol = solve([equation, *constraints], [q1, q2, q3])\n",
    "\n"
   ]
  },
  {
   "cell_type": "code",
   "execution_count": 40,
   "metadata": {},
   "outputs": [],
   "source": [
    "# kramer \n",
    "\n",
    "M1 = Matrix([\n",
    "    [cos(q2), -q3, 0],\n",
    "    [sin(q2), N, 0],\n",
    "    [q1, 0, 1]\n",
    "])\n",
    "\n",
    "M2 = Matrix([\n",
    "    [N, cos(q2), 0],\n",
    "    [q3, sin(q2), 0],\n",
    "    [0, q1, 1]\n",
    "])\n",
    "\n",
    "M3 = Matrix([\n",
    "    [N, -q3, cos(q2)],\n",
    "    [q3, N, sin(q2)],\n",
    "    [0, 0, q1]\n",
    "])\n"
   ]
  },
  {
   "cell_type": "code",
   "execution_count": 41,
   "metadata": {},
   "outputs": [
    {
     "data": {
      "image/png": "[encoded data removed]",
      "text/latex": [
       "$\\displaystyle N \\cos{\\left(q_{2} \\right)} + q_{3} \\sin{\\left(q_{2} \\right)}$"
      ],
      "text/plain": [
       "N⋅cos(q₂) + q₃⋅sin(q₂)"
      ]
     },
     "execution_count": 41,
     "metadata": {},
     "output_type": "execute_result"
    }
   ],
   "source": [
    "M1.det()"
   ]
  },
  {
   "cell_type": "code",
   "execution_count": 42,
   "metadata": {},
   "outputs": [
    {
     "data": {
      "image/png": "[encoded data removed]",
      "text/latex": [
       "$\\displaystyle \\left( \\frac{N \\cos{\\left(q_{2} \\right)} + q_{3} \\sin{\\left(q_{2} \\right)}}{N^{2} + q_{3}^{2}}, \\  \\frac{N \\sin{\\left(q_{2} \\right)} - q_{3} \\cos{\\left(q_{2} \\right)}}{N^{2} + q_{3}^{2}}, \\  \\frac{N^{2} q_{1} + q_{1} q_{3}^{2}}{N^{2} + q_{3}^{2}}\\right)$"
      ],
      "text/plain": [
       "⎛                                                 2           2⎞\n",
       "⎜N⋅cos(q₂) + q₃⋅sin(q₂)  N⋅sin(q₂) - q₃⋅cos(q₂)  N ⋅q₁ + q₁⋅q₃ ⎟\n",
       "⎜──────────────────────, ──────────────────────, ──────────────⎟\n",
       "⎜        2     2                 2     2             2     2   ⎟\n",
       "⎝       N  + q₃                 N  + q₃             N  + q₃    ⎠"
      ]
     },
     "execution_count": 42,
     "metadata": {},
     "output_type": "execute_result"
    }
   ],
   "source": [
    "M1.det() / A.det(), M2.det() / A.det(), M3.det() / A.det()"
   ]
  },
  {
   "cell_type": "code",
   "execution_count": 43,
   "metadata": {},
   "outputs": [
    {
     "data": {
      "image/png": "[encoded data removed]",
      "text/latex": [
       "$\\displaystyle \\left[ \\left( 2 \\operatorname{atan}{\\left(\\frac{q_{3} - \\sqrt{N^{2} + q_{3}^{2}}}{N} \\right)},\\right), \\  \\left( 2 \\operatorname{atan}{\\left(\\frac{q_{3} + \\sqrt{N^{2} + q_{3}^{2}}}{N} \\right)},\\right)\\right]$"
      ],
      "text/plain": [
       "⎡⎛      ⎛        __________⎞ ⎞  ⎛      ⎛        __________⎞ ⎞⎤\n",
       "⎢⎜      ⎜       ╱  2     2 ⎟ ⎟  ⎜      ⎜       ╱  2     2 ⎟ ⎟⎥\n",
       "⎢⎜      ⎜q₃ - ╲╱  N  + q₃  ⎟ ⎟  ⎜      ⎜q₃ + ╲╱  N  + q₃  ⎟ ⎟⎥\n",
       "⎢⎜2⋅atan⎜──────────────────⎟,⎟, ⎜2⋅atan⎜──────────────────⎟,⎟⎥\n",
       "⎣⎝      ⎝        N         ⎠ ⎠  ⎝      ⎝        N         ⎠ ⎠⎦"
      ]
     },
     "execution_count": 43,
     "metadata": {},
     "output_type": "execute_result"
    }
   ],
   "source": [
    "solve((M1.det() / A.det(), M2.det() / A.det(), M3.det() / A.det()), [q2])"
   ]
  },
  {
   "cell_type": "markdown",
   "metadata": {},
   "source": [
    "$$p_x = l_1 c_1 + l_2 c_{12}$$\n",
    "$$p_y = l_1 s_1 + l_2 s_{12}$$\n",
    "\n",
    "Squaring and summing the two equations we get:\n",
    "\n",
    "$$p_x^2 + p_y^2 - l_1^2 - l_2^2 = 2 l_1 l_2 c_{12}$$"
   ]
  },
  {
   "cell_type": "code",
   "execution_count": 56,
   "metadata": {},
   "outputs": [],
   "source": [
    "Rw = pr.direct_rot_mat(np.pi/2, np.array([0,0,1]))\n",
    "Rtool = pr.direct_rot_mat(-np.pi/2, np.array([1,0,0]))"
   ]
  },
  {
   "cell_type": "code",
   "execution_count": 57,
   "metadata": {},
   "outputs": [],
   "source": [
    "Tw = np.array([\n",
    "    [1,0,0,1],\n",
    "    [0,1,0,1],\n",
    "    [0,0,1,0],\n",
    "    [0,0,0,1]\n",
    "], dtype=np.float64)\n",
    "\n",
    "Tw[:3, :3] = Rw @ Tw[:3, :3]\n"
   ]
  },
  {
   "cell_type": "code",
   "execution_count": 58,
   "metadata": {},
   "outputs": [],
   "source": [
    "Te = np.array([\n",
    "    [0, 1/2, -np.sqrt(3)/2, 1],\n",
    "    [1, 0, 0, -3/4],\n",
    "    [0, -np.sqrt(3)/2, -1/2, 1.5],\n",
    "    [0, 0, 0, 1]\n",
    "], dtype=np.float64)"
   ]
  },
  {
   "cell_type": "code",
   "execution_count": 59,
   "metadata": {},
   "outputs": [],
   "source": [
    "Ttool = np.array([\n",
    "    [1,0,0,0],\n",
    "    [0,1,0,0.3],\n",
    "    [0,0,1,0.3],\n",
    "    [0,0,0,1]\n",
    "], dtype=np.float64)\n",
    "\n",
    "Ttool[:3, :3] = Rtool @ Ttool[:3, :3]"
   ]
  },
  {
   "cell_type": "code",
   "execution_count": 60,
   "metadata": {},
   "outputs": [],
   "source": [
    "wTtool = Tw @ Te @ Ttool"
   ]
  },
  {
   "cell_type": "code",
   "execution_count": 63,
   "metadata": {},
   "outputs": [
    {
     "data": {
      "text/html": [
       "<pre style=\"white-space:pre;overflow-x:auto;line-height:normal;font-family:Menlo,'DejaVu Sans Mono',consolas,'Courier New',monospace\"><span style=\"font-weight: bold\">[[</span><span style=\"color: #008080; text-decoration-color: #008080; font-weight: bold\">-1</span>.     <span style=\"color: #008080; text-decoration-color: #008080; font-weight: bold\">0</span>.     <span style=\"color: #008080; text-decoration-color: #008080; font-weight: bold\">0</span>.     <span style=\"color: #008080; text-decoration-color: #008080; font-weight: bold\">1.75</span> <span style=\"font-weight: bold\">]</span>\n",
       " <span style=\"font-weight: bold\">[</span> <span style=\"color: #008080; text-decoration-color: #008080; font-weight: bold\">0</span>.     <span style=\"color: #008080; text-decoration-color: #008080; font-weight: bold\">0.866</span>  <span style=\"color: #008080; text-decoration-color: #008080; font-weight: bold\">0.5</span>    <span style=\"color: #008080; text-decoration-color: #008080; font-weight: bold\">1.89</span> <span style=\"font-weight: bold\">]</span>\n",
       " <span style=\"font-weight: bold\">[</span> <span style=\"color: #008080; text-decoration-color: #008080; font-weight: bold\">0</span>.     <span style=\"color: #008080; text-decoration-color: #008080; font-weight: bold\">0.5</span>   <span style=\"color: #008080; text-decoration-color: #008080; font-weight: bold\">-0.866</span>  <span style=\"color: #008080; text-decoration-color: #008080; font-weight: bold\">1.09</span> <span style=\"font-weight: bold\">]</span>\n",
       " <span style=\"font-weight: bold\">[</span> <span style=\"color: #008080; text-decoration-color: #008080; font-weight: bold\">0</span>.     <span style=\"color: #008080; text-decoration-color: #008080; font-weight: bold\">0</span>.     <span style=\"color: #008080; text-decoration-color: #008080; font-weight: bold\">0</span>.     <span style=\"color: #008080; text-decoration-color: #008080; font-weight: bold\">1</span>.   <span style=\"font-weight: bold\">]]</span>\n",
       "</pre>\n"
      ],
      "text/plain": [
       "\u001b[1m[\u001b[0m\u001b[1m[\u001b[0m\u001b[1;36m-1\u001b[0m.     \u001b[1;36m0\u001b[0m.     \u001b[1;36m0\u001b[0m.     \u001b[1;36m1.75\u001b[0m \u001b[1m]\u001b[0m\n",
       " \u001b[1m[\u001b[0m \u001b[1;36m0\u001b[0m.     \u001b[1;36m0.866\u001b[0m  \u001b[1;36m0.5\u001b[0m    \u001b[1;36m1.89\u001b[0m \u001b[1m]\u001b[0m\n",
       " \u001b[1m[\u001b[0m \u001b[1;36m0\u001b[0m.     \u001b[1;36m0.5\u001b[0m   \u001b[1;36m-0.866\u001b[0m  \u001b[1;36m1.09\u001b[0m \u001b[1m]\u001b[0m\n",
       " \u001b[1m[\u001b[0m \u001b[1;36m0\u001b[0m.     \u001b[1;36m0\u001b[0m.     \u001b[1;36m0\u001b[0m.     \u001b[1;36m1\u001b[0m.   \u001b[1m]\u001b[0m\u001b[1m]\u001b[0m\n"
      ]
     },
     "metadata": {},
     "output_type": "display_data"
    }
   ],
   "source": [
    "print(np.array2string(wTtool, precision=3, suppress_small=True))"
   ]
  },
  {
   "cell_type": "code",
   "execution_count": 1,
   "metadata": {},
   "outputs": [],
   "source": [
    "import numpy as np"
   ]
  },
  {
   "cell_type": "code",
   "execution_count": 2,
   "metadata": {},
   "outputs": [],
   "source": [
    "L = 1\n",
    "Px = 2\n",
    "Py = 1\n",
    "alpha = np.pi/6"
   ]
  },
  {
   "cell_type": "code",
   "execution_count": 22,
   "metadata": {},
   "outputs": [],
   "source": [
    "delta = (Px * np.cos(alpha) + Py * np.sin(alpha)) ** 2 - (Px ** 2 + Py ** 2 - L ** 2)"
   ]
  },
  {
   "cell_type": "code",
   "execution_count": 23,
   "metadata": {},
   "outputs": [
    {
     "data": {
      "text/plain": [
       "0.9820508075688767"
      ]
     },
     "execution_count": 23,
     "metadata": {},
     "output_type": "execute_result"
    }
   ],
   "source": [
    "delta"
   ]
  },
  {
   "cell_type": "code",
   "execution_count": 24,
   "metadata": {},
   "outputs": [],
   "source": [
    "b = (Px * np.cos(alpha) + Py * np.sin(alpha))"
   ]
  },
  {
   "cell_type": "code",
   "execution_count": 34,
   "metadata": {},
   "outputs": [],
   "source": [
    "q3_1 = b + np.sqrt(delta)"
   ]
  },
  {
   "cell_type": "code",
   "execution_count": 35,
   "metadata": {},
   "outputs": [
    {
     "data": {
      "text/plain": [
       "3.2230355741363947"
      ]
     },
     "execution_count": 35,
     "metadata": {},
     "output_type": "execute_result"
    }
   ],
   "source": [
    "q3_1"
   ]
  },
  {
   "cell_type": "code",
   "execution_count": 36,
   "metadata": {},
   "outputs": [],
   "source": [
    "q3_2 = b - np.sqrt(delta)"
   ]
  },
  {
   "cell_type": "code",
   "execution_count": 37,
   "metadata": {},
   "outputs": [
    {
     "data": {
      "text/plain": [
       "1.2410660410013599"
      ]
     },
     "execution_count": 37,
     "metadata": {},
     "output_type": "execute_result"
    }
   ],
   "source": [
    "q3_2"
   ]
  },
  {
   "cell_type": "code",
   "execution_count": 38,
   "metadata": {},
   "outputs": [],
   "source": [
    "P = np.array([Px, Py])"
   ]
  },
  {
   "cell_type": "code",
   "execution_count": 39,
   "metadata": {},
   "outputs": [],
   "source": [
    "L2 = np.array([\n",
    "    q3_1 * np.cos(alpha),\n",
    "    q3_1 * np.sin(alpha)\n",
    "])\n",
    "\n",
    "L1 = P - L2\n",
    "\n",
    "q1_1 = np.arctan2(L1[1], L1[0])"
   ]
  },
  {
   "cell_type": "code",
   "execution_count": 40,
   "metadata": {},
   "outputs": [],
   "source": [
    "q2_1 = alpha - q1_1"
   ]
  },
  {
   "cell_type": "code",
   "execution_count": 41,
   "metadata": {},
   "outputs": [],
   "source": [
    "L2 = np.array([\n",
    "    q3_2 * np.cos(alpha),\n",
    "    q3_2 * np.sin(alpha)\n",
    "])\n",
    "\n",
    "L1 = P - L2\n",
    "\n",
    "q1_2 = np.arctan2(L1[1], L1[0])"
   ]
  },
  {
   "cell_type": "code",
   "execution_count": 42,
   "metadata": {},
   "outputs": [],
   "source": [
    "q2_2 = alpha - q1_2"
   ]
  },
  {
   "cell_type": "code",
   "execution_count": 43,
   "metadata": {},
   "outputs": [
    {
     "data": {
      "text/plain": [
       "((-2.4836152202297495, 3.007213995828048, 3.2230355741363947),\n",
       " (0.38922011783655397, 0.13437865776174485, 1.2410660410013599))"
      ]
     },
     "execution_count": 43,
     "metadata": {},
     "output_type": "execute_result"
    }
   ],
   "source": [
    "(q1_1, q2_1, q3_1), (q1_2, q2_2, q3_2)"
   ]
  },
  {
   "cell_type": "code",
   "execution_count": null,
   "metadata": {},
   "outputs": [],
   "source": []
  }
 ],
 "metadata": {
  "kernelspec": {
   "display_name": ".venv",
   "language": "python",
   "name": "python3"
  },
  "language_info": {
   "codemirror_mode": {
    "name": "ipython",
    "version": 3
   },
   "file_extension": ".py",
   "mimetype": "text/x-python",
   "name": "python",
   "nbconvert_exporter": "python",
   "pygments_lexer": "ipython3",
   "version": "3.11.5"
  }
 },
 "nbformat": 4,
 "nbformat_minor": 2
}
